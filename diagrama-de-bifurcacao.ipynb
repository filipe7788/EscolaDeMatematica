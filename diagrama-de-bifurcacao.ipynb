{
 "cells": [
  {
   "cell_type": "markdown",
   "metadata": {},
   "source": [
    "# Importando bibliotecas"
   ]
  },
  {
   "cell_type": "code",
   "execution_count": 358,
   "metadata": {},
   "outputs": [
    {
     "data": {
      "text/plain": [
       "<matplotlib.pyplot._IonContext at 0x16465b160>"
      ]
     },
     "execution_count": 358,
     "metadata": {},
     "output_type": "execute_result"
    }
   ],
   "source": [
    "from numpy import *\n",
    "from scipy.integrate import odeint\n",
    "from matplotlib.pyplot import *\n",
    "ion()"
   ]
  },
  {
   "cell_type": "markdown",
   "metadata": {},
   "source": [
    "# Definindo modelo "
   ]
  },
  {
   "cell_type": "code",
   "execution_count": 359,
   "metadata": {},
   "outputs": [],
   "source": [
    "def matriaquia(y, t, r1, r2, lambd, beta, alpha, k, dI, dN, dM):\n",
    "\n",
    "    I = y[0]\n",
    "    N = y[1]\n",
    "    M = y[2]\n",
    "\n",
    "    dIdt = r1 * ( (M*I) / (M+ ( (1/alpha) * (I+N) ) ) ) * (1 - (I+N+M) / k) - dI * I\n",
    "    dNdt = r2 * ( (M*N) / (M+ ( (1/alpha) * (I+N) ) ) ) * r1 * ( (M*I) / (M+ ( (1/alpha) * (I+N) ) ) ) * beta * (1 - (I+N+M) / k) - dN * N\n",
    "    dMdt = r1 * ( (M*I) / (M+ ( (1/alpha) * (I+N) ) ) ) * lambd * (1 - (I+N+M) / k) + r2 * ( (M*N) / (M+ (1/alpha) * (I+N) ) ) * (1 - (I+N+M) / k) - dM*M\n",
    "\n",
    "    return [dIdt, dNdt, dMdt]"
   ]
  },
  {
   "cell_type": "markdown",
   "metadata": {},
   "source": [
    "#  Parametros"
   ]
  },
  {
   "cell_type": "code",
   "execution_count": 360,
   "metadata": {},
   "outputs": [],
   "source": [
    "r1 = 2\n",
    "r2 = 1\n",
    "\n",
    "lambd = 0.1\n",
    "beta = 0.05\n",
    "\n",
    "alpha = 4\n",
    "k = 300.\n",
    "\n",
    "dI = .25\n",
    "dN = .35\n",
    "dM = dN"
   ]
  },
  {
   "cell_type": "markdown",
   "metadata": {},
   "source": [
    "# Condicoes iniciais"
   ]
  },
  {
   "cell_type": "code",
   "execution_count": 361,
   "metadata": {},
   "outputs": [],
   "source": [
    "numero_de_femeas_infectadas = 1\n",
    "numero_de_femeas_saudaveis = 100.\n",
    "numero_de_machos = 100.\n",
    "\n",
    "condicoes_iniciais = [numero_de_femeas_infectadas, numero_de_femeas_saudaveis, numero_de_machos]"
   ]
  },
  {
   "cell_type": "markdown",
   "metadata": {},
   "source": [
    "# Chamando Modelo"
   ]
  },
  {
   "cell_type": "code",
   "execution_count": 362,
   "metadata": {},
   "outputs": [],
   "source": [
    "tempo = arange(0, 50, 1)\n",
    "params = (r1, r2, lambd, beta, alpha, k, dI, dN, dM)\n",
    "resultados = odeint(matriaquia, condicoes_iniciais, tempo, params)"
   ]
  },
  {
   "cell_type": "markdown",
   "metadata": {},
   "source": [
    "# Plotando graficos"
   ]
  },
  {
   "cell_type": "code",
   "execution_count": 363,
   "metadata": {},
   "outputs": [
    {
     "data": {
      "text/plain": [
       "<matplotlib.legend.Legend at 0x16469d580>"
      ]
     },
     "execution_count": 363,
     "metadata": {},
     "output_type": "execute_result"
    },
    {
     "data": {
      "image/png": "[encoded data removed]",
      "text/plain": [
       "<Figure size 576x432 with 1 Axes>"
      ]
     },
     "metadata": {
      "needs_background": "light"
     },
     "output_type": "display_data"
    }
   ],
   "source": [
    "t = arange(0, 73)\n",
    "\n",
    "params = (r1, r2, lambd, beta, alpha, k, dI, dN, dM)\n",
    "\n",
    "numero_de_femeas_infectadas = 50\n",
    "numero_de_femeas_saudaveis = 100.\n",
    "numero_de_machos = 100.\n",
    "\n",
    "condicoes_iniciais = [numero_de_femeas_infectadas, numero_de_femeas_saudaveis, numero_de_machos]\n",
    "\n",
    "y = odeint(matriaquia, condicoes_iniciais, t, params)\n",
    "\n",
    "figure(figsize=(8, 6)) \n",
    "#  get all items from the first column\n",
    "x = y[:, 0]\n",
    "#  get all items from the second column\n",
    "a = y[:, 1]\n",
    "\n",
    "z = y[:, 2]\n",
    "\n",
    "plot(tempo, resultados[:, 0], color='red',zorder=1, linewidth=2, label='Infectados')\n",
    "plot(tempo, resultados[:, 1], color='pink',zorder=1, linewidth=5, label='Saudaveis')\n",
    "plot(tempo, resultados[:, 2], color='b',zorder=1, linewidth=2, label='Machos')\n",
    "tick_params(labelsize= 15)\n",
    "\n",
    "xlabel('Tempo (dias)')\n",
    "ylabel('População')\n",
    "\n",
    "legend()\n"
   ]
  },
  {
   "cell_type": "code",
   "execution_count": 364,
   "metadata": {},
   "outputs": [
    {
     "data": {
      "text/plain": [
       "[8.749043175490343,\n",
       " 8.749638758485263,\n",
       " 9.419916095053797,\n",
       " 33.969966323757376,\n",
       " 44.21880722581402,\n",
       " 48.68135914165555,\n",
       " 51.30417526953589,\n",
       " 53.05332892532097,\n",
       " 54.30920881962418,\n",
       " 55.25681794508974,\n",
       " 55.99810264877315,\n",
       " 56.594207612535584,\n",
       " 57.0841511987707,\n",
       " 57.49405534215668,\n",
       " 57.84209098383844,\n",
       " 58.14129682631507,\n",
       " 58.40127634233178,\n",
       " 58.629266533924245,\n",
       " 58.83082212896194,\n",
       " 59.01028044184028,\n",
       " 59.17107738416045,\n",
       " 59.315970522754824,\n",
       " 59.44719962371384,\n",
       " 59.56660177708467,\n",
       " 59.6756984610612,\n",
       " 59.77576122860152,\n",
       " 59.86785944450947,\n",
       " 59.95290300852807,\n",
       " 60.03166349155187,\n",
       " 60.10480952364256,\n",
       " 60.172912431893046,\n",
       " 60.23647212553264,\n",
       " 60.29592328169713,\n",
       " 60.35164809954641,\n",
       " 60.40398101930601,\n",
       " 60.453218468809936,\n",
       " 60.49962358223619,\n",
       " 60.54343049207969,\n",
       " 60.58484751828131,\n",
       " 60.62406146298265,\n",
       " 60.66124182767015,\n",
       " 60.69653827072846,\n",
       " 60.73008808197141,\n",
       " 60.76201591427059,\n",
       " 60.792432639360364,\n",
       " 60.82144179816935,\n",
       " 60.84913626322198,\n",
       " 60.87560083984381,\n",
       " 60.900914369621546,\n",
       " 60.92514743262835,\n",
       " 60.948365973375736,\n",
       " 60.97063111647097,\n",
       " 60.99199801260545,\n",
       " 61.0125182554698,\n",
       " 61.032239695329594,\n",
       " 61.05120671425485,\n",
       " 61.06946005902095,\n",
       " 61.08703782592402,\n",
       " 61.1039756117747,\n",
       " 61.120305771215705,\n",
       " 61.13605996630395,\n",
       " 61.151265962789495,\n",
       " 61.16595179296696,\n",
       " 61.18014110594267,\n",
       " 61.193858561202426,\n",
       " 61.207125738001345,\n",
       " 61.219963928139556,\n",
       " 61.23239195514626,\n",
       " 61.24442822768985,\n",
       " 61.256090127451806,\n",
       " 61.26739354213638,\n",
       " 61.27835511637017,\n",
       " 61.288987737985806,\n",
       " 61.299305863471844,\n",
       " 61.30932223929475,\n",
       " 61.31904871845124,\n",
       " 61.32849746494082,\n",
       " 61.33767929088034,\n",
       " 61.34660464704083,\n",
       " 61.355282916458464,\n",
       " 61.3637245187656,\n",
       " 61.3719372581647,\n",
       " 61.379930010624854,\n",
       " 61.38771041768569,\n",
       " 61.39528726202594,\n",
       " 61.4026668663207,\n",
       " 61.409856433779915,\n",
       " 61.41686276889371,\n",
       " 61.42369194794781,\n",
       " 61.4303501629896,\n",
       " 61.436843223832454,\n",
       " 61.44317589157692,\n",
       " 61.449355532636346,\n",
       " 61.45538521532785,\n",
       " 61.46127001025339,\n",
       " 61.467015521979896,\n",
       " 61.4726253210015,\n",
       " 61.47810382389071,\n",
       " 61.48345516092988,\n",
       " 61.48868326652467,\n",
       " 61.493791974675496,\n",
       " 61.498784845641815,\n",
       " 61.503665300158346,\n",
       " 61.508436604472266,\n",
       " 61.513101906436646,\n",
       " 61.51766456177787,\n",
       " 61.522127213694844,\n",
       " 61.526493122397824,\n",
       " 61.53076432274185,\n",
       " 61.53494394494921,\n",
       " 61.539034504961926,\n",
       " 61.54303840453268,\n",
       " 61.54695748113193,\n",
       " 61.550795511820034,\n",
       " 61.55455312819757,\n",
       " 61.55823273435061,\n",
       " 61.561837411461724,\n",
       " 61.565367298560446,\n",
       " 61.56882670580951,\n",
       " 61.572214995444924,\n",
       " 61.57553565048719,\n",
       " 61.57879012178095,\n",
       " 61.58197863956431,\n",
       " 61.58510509312406,\n",
       " 61.588169986052606,\n",
       " 61.59117435928036,\n",
       " 61.594119872018,\n",
       " 61.597007882730374,\n",
       " 61.59984060232596,\n",
       " 61.602617980974316,\n",
       " 61.60534311568633,\n",
       " 61.60801557896298,\n",
       " 61.61063718759952,\n",
       " 61.61320907139743,\n",
       " 61.61573280439044,\n",
       " 61.61820926502614,\n",
       " 61.62063892875596,\n",
       " 61.62302252676758,\n",
       " 61.62536357841099,\n",
       " 61.62765965816763,\n",
       " 61.62991374008097,\n",
       " 61.63212661178503,\n",
       " 61.63429978386019,\n",
       " 61.63643119932482,\n",
       " 61.63852585272756,\n",
       " 61.640580587272325,\n",
       " 61.64259857283419,\n",
       " 61.644580563488006,\n",
       " 61.6465271752289,\n",
       " 61.64843762874893,\n",
       " 61.65031433088966,\n",
       " 61.65215852922645,\n",
       " 61.65396816845729,\n",
       " 61.655746933436255,\n",
       " 61.65749344116735,\n",
       " 61.659208121569826,\n",
       " 61.66089432523434,\n",
       " 61.66254909076202,\n",
       " 61.66417517795538,\n",
       " 61.665774184396646,\n",
       " 61.66734239891621,\n",
       " 61.66888548955198,\n",
       " 61.67039963093699,\n",
       " 61.6718895951966,\n",
       " 61.67335175687866,\n",
       " 61.674788957531646,\n",
       " 61.676200962912304,\n",
       " 61.67758854624532,\n",
       " 61.67895154430042,\n",
       " 61.680291557758686,\n",
       " 61.68160771697617,\n",
       " 61.6829013274082,\n",
       " 61.68417273475971,\n",
       " 61.68542156771865,\n",
       " 61.68664949881561,\n",
       " 61.687855235396555,\n",
       " 61.68904090074068,\n",
       " 61.69020548737417,\n",
       " 61.69135003890608,\n",
       " 61.6924748933717,\n",
       " 61.69358025957865,\n",
       " 61.69466637082803,\n",
       " 61.69573493198098,\n",
       " 61.69678219929105,\n",
       " 61.697813505393796,\n",
       " 61.698827434516815,\n",
       " 61.699822594193314,\n",
       " 61.70079888689913,\n",
       " 61.70176023633282,\n",
       " 61.702705483548904,\n",
       " 61.70363225525926,\n",
       " 61.704545332381954,\n",
       " 61.70543942521255,\n",
       " 61.7063199971153,\n",
       " 61.707185361882466,\n",
       " 61.708033442438726,\n",
       " 61.70886933149933,\n",
       " 61.70968851749457,\n",
       " 61.71049320772258,\n",
       " 61.711285046051295]"
      ]
     },
     "execution_count": 364,
     "metadata": {},
     "output_type": "execute_result"
    },
    {
     "data": {
      "image/png": "[encoded data removed]",
      "text/plain": [
       "<Figure size 432x288 with 1 Axes>"
      ]
     },
     "metadata": {
      "needs_background": "light"
     },
     "output_type": "display_data"
    }
   ],
   "source": [
    "femeas_infectadas = []\n",
    "femeas_nao_infectadas = []\n",
    "machos = []\n",
    "\n",
    "KK = arange(0, 2, .01)\n",
    "\n",
    "for i in KK:\n",
    "    params = (r1, r2, lambd, i, alpha, k, dI, dN, dM)\n",
    "\n",
    "    y = odeint(matriaquia, condicoes_iniciais, tempo, params)\n",
    "    \n",
    "    femeas_infectadas.append(y[:, 0][-1])\n",
    "    femeas_nao_infectadas.append(y[:, 1][-1])\n",
    "    machos.append(y[:, 2][-1])\n",
    "\n",
    "plot(KK, femeas_infectadas, color='red',zorder=1, linewidth=2, label='Infectados')\n",
    "plot(KK, femeas_nao_infectadas, color='pink',zorder=1, linewidth=5, label='Saudaveis')\n",
    "plot(KK, machos, color='b',zorder=1, linewidth=2, label='Machos')\n",
    "tick_params(labelsize= 15)\n",
    "\n",
    "xlabel('Chance de Fi gerar FNi')\n",
    "ylabel('População')\n",
    "axvline(0.021, 0, 1, ls=':')\n",
    "axvline(0.035, 0, 1, ls=':')\n",
    "legend()\n",
    "\n",
    "machos\n"
   ]
  },
  {
   "cell_type": "code",
   "execution_count": null,
   "metadata": {},
   "outputs": [],
   "source": []
  }
 ],
 "metadata": {
  "kernelspec": {
   "display_name": "Python 3.9.12 64-bit",
   "language": "python",
   "name": "python3"
  },
  "language_info": {
   "codemirror_mode": {
    "name": "ipython",
    "version": 3
   },
   "file_extension": ".py",
   "mimetype": "text/x-python",
   "name": "python",
   "nbconvert_exporter": "python",
   "pygments_lexer": "ipython3",
   "version": "3.9.12"
  },
  "orig_nbformat": 4,
  "vscode": {
   "interpreter": {
    "hash": "aee8b7b246df8f9039afb4144a1f6fd8d2ca17a180786b69acc140d282b71a49"
   }
  }
 },
 "nbformat": 4,
 "nbformat_minor": 2
}
