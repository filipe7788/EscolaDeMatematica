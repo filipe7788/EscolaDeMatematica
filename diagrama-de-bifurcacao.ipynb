{
 "cells": [
  {
   "cell_type": "markdown",
   "metadata": {},
   "source": [
    "# Importando bibliotecas"
   ]
  },
  {
   "cell_type": "code",
   "execution_count": 7,
   "metadata": {},
   "outputs": [
    {
     "data": {
      "text/plain": [
       "<matplotlib.pyplot._IonContext at 0x11ec78730>"
      ]
     },
     "execution_count": 7,
     "metadata": {},
     "output_type": "execute_result"
    }
   ],
   "source": [
    "from numpy import *\n",
    "from scipy.integrate import odeint\n",
    "from matplotlib.pyplot import *\n",
    "ion()"
   ]
  },
  {
   "cell_type": "markdown",
   "metadata": {},
   "source": [
    "# Definindo modelo "
   ]
  },
  {
   "cell_type": "code",
   "execution_count": 8,
   "metadata": {},
   "outputs": [],
   "source": [
    "def matriaquia(y, t, r1, r2, lambd, beta, alpha, k, dI, dN, dM):\n",
    "\n",
    "    I = y[0]\n",
    "    N = y[1]\n",
    "    M = y[2]\n",
    "\n",
    "    dIdt = r1 * ( (M*I) / (M+ ( (1/alpha) * (I+N) ) ) ) * (1 - (I+N+M) / k) - dI * I\n",
    "    dNdt = r2 * ( (M*N) / (M+ ( (1/alpha) * (I+N) ) ) ) * r1 * ( (M*I) / (M+ ( (1/alpha) * (I+N) ) ) ) * beta * (1 - (I+N+M) / k) - dN * N\n",
    "    dMdt = r1 * ( (M*I) / (M+ ( (1/alpha) * (I+N) ) ) ) * lambd * (1 - (I+N+M) / k) + r2 * ( (M*N) / (M+ (1/alpha) * (I+N) ) ) * (1 - (I+N+M) / k) - dM*M\n",
    "\n",
    "    return [dIdt, dNdt, dMdt]"
   ]
  },
  {
   "cell_type": "markdown",
   "metadata": {},
   "source": [
    "#  Parametros"
   ]
  },
  {
   "cell_type": "code",
   "execution_count": 9,
   "metadata": {},
   "outputs": [],
   "source": [
    "r1 = 2\n",
    "r2 = 1\n",
    "\n",
    "lambd = 0.1\n",
    "beta = 0.05\n",
    "\n",
    "alpha = 4\n",
    "k = 300.\n",
    "\n",
    "dI = .25\n",
    "dN = .35\n",
    "dM = dN"
   ]
  },
  {
   "cell_type": "markdown",
   "metadata": {},
   "source": [
    "# Condicoes iniciais"
   ]
  },
  {
   "cell_type": "code",
   "execution_count": 10,
   "metadata": {},
   "outputs": [],
   "source": [
    "numero_de_femeas_infectadas = 1\n",
    "numero_de_femeas_saudaveis = 100.\n",
    "numero_de_machos = 100.\n",
    "\n",
    "condicoes_iniciais = [numero_de_femeas_infectadas, numero_de_femeas_saudaveis, numero_de_machos]"
   ]
  },
  {
   "cell_type": "markdown",
   "metadata": {},
   "source": [
    "# Chamando Modelo"
   ]
  },
  {
   "cell_type": "code",
   "execution_count": 11,
   "metadata": {},
   "outputs": [],
   "source": [
    "tempo = arange(0, 50, 1)\n",
    "params = (r1, r2, lambd, beta, alpha, k, dI, dN, dM)\n",
    "resultados = odeint(matriaquia, condicoes_iniciais, tempo, params)"
   ]
  },
  {
   "cell_type": "markdown",
   "metadata": {},
   "source": [
    "# Plotando graficos"
   ]
  },
  {
   "cell_type": "code",
   "execution_count": 12,
   "metadata": {},
   "outputs": [
    {
     "data": {
      "text/plain": [
       "<matplotlib.legend.Legend at 0x11ed24280>"
      ]
     },
     "execution_count": 12,
     "metadata": {},
     "output_type": "execute_result"
    },
    {
     "data": {
      "image/png": "[encoded data removed]",
      "text/plain": [
       "<Figure size 576x432 with 1 Axes>"
      ]
     },
     "metadata": {
      "needs_background": "light"
     },
     "output_type": "display_data"
    }
   ],
   "source": [
    "t = arange(0, 73)\n",
    "y0 = [1, 1.]\n",
    "\n",
    "r1 = 1.9\n",
    "r2 = 1\n",
    "\n",
    "lambd = 0.1\n",
    "alpha = 4\n",
    "k1 = 400\n",
    "k2 = 200\n",
    "k3 = 200\n",
    "\n",
    "dI = .34\n",
    "dN = .35\n",
    "dM = dN\n",
    "\n",
    "params = (r1, r2, alpha, k1, k2, k3, dI, dN, dM)\n",
    "\n",
    "numero_de_femeas_infectadas = 50\n",
    "numero_de_femeas_saudaveis = 100.\n",
    "numero_de_machos = 100.\n",
    "\n",
    "condicoes_iniciais = [numero_de_femeas_infectadas, numero_de_femeas_saudaveis, numero_de_machos]\n",
    "\n",
    "y = odeint(matriaquia, condicoes_iniciais, t, params)\n",
    "\n",
    "figure(figsize=(8, 6)) \n",
    "#  get all items from the first column\n",
    "x = y[:, 0]\n",
    "#  get all items from the second column\n",
    "a = y[:, 1]\n",
    "\n",
    "z = y[:, 2]\n",
    "\n",
    "plot(tempo, resultados[:, 0], color='red',zorder=1, linewidth=2, label='Infectados')\n",
    "plot(tempo, resultados[:, 1], color='pink',zorder=1, linewidth=5, label='Saudaveis')\n",
    "plot(tempo, resultados[:, 2], color='b',zorder=1, linewidth=2, label='Machos')\n",
    "tick_params(labelsize= 15)\n",
    "\n",
    "xlabel('Tempo (dias)')\n",
    "ylabel('População')\n",
    "\n",
    "legend()\n"
   ]
  },
  {
   "cell_type": "code",
   "execution_count": null,
   "metadata": {},
   "outputs": [],
   "source": [
    "plot(y[:,0], y[:,1],linewidth=2.5)\n"
   ]
  }
 ],
 "metadata": {
  "kernelspec": {
   "display_name": "Python 3.9.12 64-bit",
   "language": "python",
   "name": "python3"
  },
  "language_info": {
   "codemirror_mode": {
    "name": "ipython",
    "version": 3
   },
   "file_extension": ".py",
   "mimetype": "text/x-python",
   "name": "python",
   "nbconvert_exporter": "python",
   "pygments_lexer": "ipython3",
   "version": "3.9.12"
  },
  "orig_nbformat": 4,
  "vscode": {
   "interpreter": {
    "hash": "aee8b7b246df8f9039afb4144a1f6fd8d2ca17a180786b69acc140d282b71a49"
   }
  }
 },
 "nbformat": 4,
 "nbformat_minor": 2
}
